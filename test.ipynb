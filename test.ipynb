{
 "cells": [
  {
   "cell_type": "code",
   "execution_count": null,
   "metadata": {},
   "outputs": [],
   "source": [
    "from ETL import ETL"
   ]
  },
  {
   "cell_type": "code",
   "execution_count": null,
   "metadata": {},
   "outputs": [],
   "source": [
    "# Case 1 - We define a straight line from source to the loader: \n",
    "# \n",
    "\n",
    "pipeline = ETL(\"ETL Pipeline 1\")\n",
    "common_id = \"1\"\n",
    "pipeline.create_all(common_id)\n",
    "pipeline.encoders[common_id].set_encoder_mapping_from_url(\"./source_mapping/mapping_source_html.json\")\n",
    "pipeline.encoders[common_id].get_encoder()\n"
   ]
  },
  {
   "cell_type": "code",
   "execution_count": null,
   "metadata": {},
   "outputs": [],
   "source": [
    "pipeline.encoders[common_id].set_encoder_mapping_from_url('./source_mapping/mapping_source_html.json')\n",
    "flow = {\n",
    "    \"flow_list\": [\n",
    "        {\n",
    "            \"ID_encoder\": \"1\",\n",
    "            \"ID_datasource\": \"1\",\n",
    "            \"ID_ingestion\": \"1\",\n",
    "            \"ID_process\": \"1\",\n",
    "            \"ID_loader\": \"1\",\n",
    "            \"ID_control\": \"1\"\n",
    "        }\n",
    "    ]\n",
    "}"
   ]
  },
  {
   "cell_type": "code",
   "execution_count": null,
   "metadata": {},
   "outputs": [],
   "source": [
    "# Case 2\n",
    "\n",
    "pipeline = ETL(\"ETL Pipeline 2\")\n",
    "pipeline.create_datasource('DS1')\n",
    "pipeline.create_encoder('EN1')\n",
    "pipeline.create_ingestion('IN1')\n",
    "pipeline.create_control('CN1')\n",
    "pipeline.create_loader('LD1')\n",
    "pipeline.create_process('TR1')\n",
    "pipeline.encoders['EN1'].set_encoder_mapping_from_url('./source_mapping/mapping_source_html.json')\n",
    "list(pipeline.controls)\n",
    "pipeline.controls['CN1'].set_pause(10)\n",
    "pipeline.set_flow_from_url('./flow.json')\n",
    "\n"
   ]
  },
  {
   "cell_type": "code",
   "execution_count": null,
   "metadata": {},
   "outputs": [],
   "source": [
    "pipeline.controls['CN1'].set_pause(3600)\n",
    "pipeline.controls['CN1'].pause\n"
   ]
  },
  {
   "cell_type": "code",
   "execution_count": null,
   "metadata": {},
   "outputs": [],
   "source": [
    "pipeline.start()"
   ]
  },
  {
   "cell_type": "code",
   "execution_count": 1,
   "metadata": {},
   "outputs": [
    {
     "name": "stderr",
     "output_type": "stream",
     "text": [
      "Exception in thread Thread-5 (__batch_run):\n",
      "Traceback (most recent call last):\n",
      "  File \"C:\\Python310\\lib\\threading.py\", line 1009, in _bootstrap_inner\n",
      "    self.run()\n",
      "  File \"C:\\Python310\\lib\\threading.py\", line 946, in run\n",
      "    self._target(*self._args, **self._kwargs)\n",
      "  File \"c:\\Users\\development\\Documents\\GitHub\\ETL\\ETL.py\", line 148, in __batch_run\n",
      "    data = ingestion.extract_text_from_website() if ingestion.data_source.get_encoder()['encoder_type'] == 'html' else None\n",
      "TypeError: 'Encoder' object is not subscriptable\n"
     ]
    },
    {
     "name": "stdout",
     "output_type": "stream",
     "text": [
      "Linking Pipeline flows\n",
      "Flow index: 1 saved and reeady to be run.\n",
      "Running Ingestion IN1...\n",
      "None\n"
     ]
    }
   ],
   "source": [
    "from ETL import ETL\n",
    "from modules.Utils import Utils\n",
    "pipeline = ETL(\"ETL Pipeline 2\")\n",
    "pipeline.create_datasource('DS1', Utils().read_json('./assets/datasources/www.google.com.json'))\n",
    "pipeline.create_encoder('EN1', 'html', Utils().read_json('./assets/encoders/encoder_html.json'))\n",
    "pipeline.create_ingestion('IN1')\n",
    "pipeline.create_control('CN1')\n",
    "pipeline.create_loader('LD1', './assets/save_config/file_safe_config.json')\n",
    "pipeline.set_flow_from_url('./assets/flow/flow.json')\n",
    "pipeline.start()"
   ]
  }
 ],
 "metadata": {
  "kernelspec": {
   "display_name": ".venv",
   "language": "python",
   "name": "python3"
  },
  "language_info": {
   "codemirror_mode": {
    "name": "ipython",
    "version": 3
   },
   "file_extension": ".py",
   "mimetype": "text/x-python",
   "name": "python",
   "nbconvert_exporter": "python",
   "pygments_lexer": "ipython3",
   "version": "3.10.0"
  }
 },
 "nbformat": 4,
 "nbformat_minor": 2
}
