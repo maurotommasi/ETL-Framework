{
 "cells": [
  {
   "cell_type": "code",
   "execution_count": null,
   "metadata": {},
   "outputs": [],
   "source": [
    "from ETL import ETL"
   ]
  },
  {
   "cell_type": "code",
   "execution_count": null,
   "metadata": {},
   "outputs": [],
   "source": [
    "# Case 1 - We define a straight line from source to the loader: \n",
    "# \n",
    "\n",
    "pipeline = ETL(\"ETL Pipeline 1\")\n",
    "common_id = \"1\"\n",
    "pipeline.create_all(common_id)\n",
    "pipeline.encoders[common_id].set_encoder_mapping_from_url(\"./source_mapping/mapping_source_html.json\")\n",
    "pipeline.encoders[common_id].get_encoder()\n"
   ]
  },
  {
   "cell_type": "code",
   "execution_count": null,
   "metadata": {},
   "outputs": [],
   "source": [
    "pipeline.encoders[common_id].set_encoder_mapping_from_url('./source_mapping/mapping_source_html.json')\n",
    "flow = {\n",
    "    \"flow_list\": [\n",
    "        {\n",
    "            \"ID_encoder\": \"1\",\n",
    "            \"ID_datasource\": \"1\",\n",
    "            \"ID_ingestion\": \"1\",\n",
    "            \"ID_process\": \"1\",\n",
    "            \"ID_loader\": \"1\",\n",
    "            \"ID_control\": \"1\"\n",
    "        }\n",
    "    ]\n",
    "}"
   ]
  },
  {
   "cell_type": "code",
   "execution_count": null,
   "metadata": {},
   "outputs": [],
   "source": [
    "# Case 2\n",
    "\n",
    "pipeline = ETL(\"ETL Pipeline 2\")\n",
    "pipeline.create_datasource('DS1')\n",
    "pipeline.create_encoder('EN1')\n",
    "pipeline.create_ingestion('IN1')\n",
    "pipeline.create_control('CN1')\n",
    "pipeline.create_loader('LD1')\n",
    "pipeline.create_process('TR1')\n",
    "pipeline.encoders['EN1'].set_encoder_mapping_from_url('./source_mapping/mapping_source_html.json')\n",
    "list(pipeline.controls)\n",
    "pipeline.controls['CN1'].set_pause(10)\n",
    "pipeline.set_flow_from_url('./flow.json')\n",
    "\n"
   ]
  },
  {
   "cell_type": "code",
   "execution_count": null,
   "metadata": {},
   "outputs": [],
   "source": [
    "pipeline.controls['CN1'].set_pause(3600)\n",
    "pipeline.controls['CN1'].pause\n"
   ]
  },
  {
   "cell_type": "code",
   "execution_count": null,
   "metadata": {},
   "outputs": [],
   "source": [
    "pipeline.start()"
   ]
  },
  {
   "cell_type": "code",
   "execution_count": 1,
   "metadata": {},
   "outputs": [
    {
     "name": "stdout",
     "output_type": "stream",
     "text": [
      "Linking Pipeline flows\n",
      "Flow index: 1 saved and ready to be run.\n",
      "Running Ingestion IN1...\n",
      "{'encoder_type': 'html', 'tags': ['h1', 'h2', 'h3', 'h4', 'h5', 'h6', 'p', 'a', 'img'], 'mapping': {'h1': 'h1', 'h2': 'h2', 'h3': 'h3', 'h4': 'h4', 'h5': 'h5', 'h6': 'h6', 'p': 'p', 'a': 'a', 'img': 'img'}}\n",
      "Start extraction for IN1\n",
      "{'h1': [], 'h2': [], 'h3': [], 'h4': [], 'h5': [], 'h6': [], 'p': [{'text': '© 2023 -Datenschutzerklärung-Nutzungsbedingungen', 'url': None}], 'a': [{'text': 'Bilder', 'url': 'https://www.google.com/imghp?hl=de&tab=wi'}, {'text': 'Maps', 'url': 'https://maps.google.ch/maps?hl=de&tab=wl'}, {'text': 'Play', 'url': 'https://play.google.com/?hl=de&tab=w8'}, {'text': 'YouTube', 'url': 'https://www.youtube.com/?tab=w1'}, {'text': 'News', 'url': 'https://news.google.com/?tab=wn'}, {'text': 'Gmail', 'url': 'https://mail.google.com/mail/?tab=wm'}, {'text': 'Drive', 'url': 'https://drive.google.com/?tab=wo'}, {'text': 'Mehr»', 'url': 'https://www.google.ch/intl/de/about/products?tab=wh'}, {'text': 'Webprotokoll', 'url': 'http://www.google.ch/history/optout?hl=de'}, {'text': 'Einstellungen', 'url': '/preferences?hl=de'}, {'text': 'Anmelden', 'url': 'https://accounts.google.com/ServiceLogin?hl=de&passive=true&continue=https://www.google.com/&ec=GAZAAQ'}, {'text': 'Erweiterte Suche', 'url': '/advanced_search?hl=de-CH&authuser=0'}, {'text': 'English', 'url': 'https://www.google.com/setprefs?sig=0_yu82T_pq8ChQWdKpqcl4As4MF9c%3D&hl=en&source=homepage&sa=X&ved=0ahUKEwjdjbKt0qGCAxUv9LsIHcRBBCYQ2ZgBCAU'}, {'text': 'Français', 'url': 'https://www.google.com/setprefs?sig=0_yu82T_pq8ChQWdKpqcl4As4MF9c%3D&hl=fr&source=homepage&sa=X&ved=0ahUKEwjdjbKt0qGCAxUv9LsIHcRBBCYQ2ZgBCAY'}, {'text': 'Italiano', 'url': 'https://www.google.com/setprefs?sig=0_yu82T_pq8ChQWdKpqcl4As4MF9c%3D&hl=it&source=homepage&sa=X&ved=0ahUKEwjdjbKt0qGCAxUv9LsIHcRBBCYQ2ZgBCAc'}, {'text': 'Rumantsch', 'url': 'https://www.google.com/setprefs?sig=0_yu82T_pq8ChQWdKpqcl4As4MF9c%3D&hl=rm&source=homepage&sa=X&ved=0ahUKEwjdjbKt0qGCAxUv9LsIHcRBBCYQ2ZgBCAg'}, {'text': 'Werbeprogramme', 'url': '/intl/de/ads/'}, {'text': 'Lösungen für Unternehmen', 'url': 'http://www.google.ch/intl/de/services/'}, {'text': 'Über Google', 'url': '/intl/de/about.html'}, {'text': 'Google.ch', 'url': 'https://www.google.com/setprefdomain?prefdom=CH&prev=https://www.google.ch/&sig=K_9oeHY1rTXzWbHcWAcC3c26JSzFc%3D'}, {'text': 'Datenschutzerklärung', 'url': '/intl/de/policies/privacy/'}, {'text': 'Nutzungsbedingungen', 'url': '/intl/de/policies/terms/'}], 'img': [{'text': 'Google', 'url': '/images/branding/googlelogo/1x/googlelogo_white_background_color_272x92dp.png'}], 'date_time': '2023-11-01 02:24:30.777013'}\n",
      "Ingestion IN1 successfully completed!\n",
      "Loading data from Ingestion IN1...\n",
      "DataFrame exported as CSV: export/data.csv\n",
      "Loaded data from Ingestion IN1!\n",
      "Running Ingestion IN1...\n",
      "{'encoder_type': 'html', 'tags': ['h1', 'h2', 'h3', 'h4', 'h5', 'h6', 'p', 'a', 'img'], 'mapping': {'h1': 'h1', 'h2': 'h2', 'h3': 'h3', 'h4': 'h4', 'h5': 'h5', 'h6': 'h6', 'p': 'p', 'a': 'a', 'img': 'img'}}\n",
      "Start extraction for IN1\n",
      "{'h1': [], 'h2': [], 'h3': [], 'h4': [], 'h5': [], 'h6': [], 'p': [{'text': '© 2023 -Datenschutzerklärung-Nutzungsbedingungen', 'url': None}], 'a': [{'text': 'Bilder', 'url': 'https://www.google.com/imghp?hl=de&tab=wi'}, {'text': 'Maps', 'url': 'https://maps.google.ch/maps?hl=de&tab=wl'}, {'text': 'Play', 'url': 'https://play.google.com/?hl=de&tab=w8'}, {'text': 'YouTube', 'url': 'https://www.youtube.com/?tab=w1'}, {'text': 'News', 'url': 'https://news.google.com/?tab=wn'}, {'text': 'Gmail', 'url': 'https://mail.google.com/mail/?tab=wm'}, {'text': 'Drive', 'url': 'https://drive.google.com/?tab=wo'}, {'text': 'Mehr»', 'url': 'https://www.google.ch/intl/de/about/products?tab=wh'}, {'text': 'Webprotokoll', 'url': 'http://www.google.ch/history/optout?hl=de'}, {'text': 'Einstellungen', 'url': '/preferences?hl=de'}, {'text': 'Anmelden', 'url': 'https://accounts.google.com/ServiceLogin?hl=de&passive=true&continue=https://www.google.com/&ec=GAZAAQ'}, {'text': 'Erweiterte Suche', 'url': '/advanced_search?hl=de-CH&authuser=0'}, {'text': 'English', 'url': 'https://www.google.com/setprefs?sig=0_rkv3WD4OPf-EmvxzWPxFThP7Zhw%3D&hl=en&source=homepage&sa=X&ved=0ahUKEwihzaWy0qGCAxV2hP0HHQRSAf0Q2ZgBCAU'}, {'text': 'Français', 'url': 'https://www.google.com/setprefs?sig=0_rkv3WD4OPf-EmvxzWPxFThP7Zhw%3D&hl=fr&source=homepage&sa=X&ved=0ahUKEwihzaWy0qGCAxV2hP0HHQRSAf0Q2ZgBCAY'}, {'text': 'Italiano', 'url': 'https://www.google.com/setprefs?sig=0_rkv3WD4OPf-EmvxzWPxFThP7Zhw%3D&hl=it&source=homepage&sa=X&ved=0ahUKEwihzaWy0qGCAxV2hP0HHQRSAf0Q2ZgBCAc'}, {'text': 'Rumantsch', 'url': 'https://www.google.com/setprefs?sig=0_rkv3WD4OPf-EmvxzWPxFThP7Zhw%3D&hl=rm&source=homepage&sa=X&ved=0ahUKEwihzaWy0qGCAxV2hP0HHQRSAf0Q2ZgBCAg'}, {'text': 'Werbeprogramme', 'url': '/intl/de/ads/'}, {'text': 'Lösungen für Unternehmen', 'url': 'http://www.google.ch/intl/de/services/'}, {'text': 'Über Google', 'url': '/intl/de/about.html'}, {'text': 'Google.ch', 'url': 'https://www.google.com/setprefdomain?prefdom=CH&prev=https://www.google.ch/&sig=K_K-IvwOOWbkGLnnYInuqNzHgKrss%3D'}, {'text': 'Datenschutzerklärung', 'url': '/intl/de/policies/privacy/'}, {'text': 'Nutzungsbedingungen', 'url': '/intl/de/policies/terms/'}], 'img': [{'text': 'Google', 'url': '/images/branding/googlelogo/1x/googlelogo_white_background_color_272x92dp.png'}], 'date_time': '2023-11-01 02:24:40.997067'}\n",
      "Ingestion IN1 successfully completed!\n",
      "Loading data from Ingestion IN1...\n",
      "DataFrame exported as CSV: export/data.csv\n",
      "Loaded data from Ingestion IN1!\n",
      "Running Ingestion IN1...\n",
      "{'encoder_type': 'html', 'tags': ['h1', 'h2', 'h3', 'h4', 'h5', 'h6', 'p', 'a', 'img'], 'mapping': {'h1': 'h1', 'h2': 'h2', 'h3': 'h3', 'h4': 'h4', 'h5': 'h5', 'h6': 'h6', 'p': 'p', 'a': 'a', 'img': 'img'}}\n",
      "Start extraction for IN1\n",
      "{'h1': [], 'h2': [], 'h3': [], 'h4': [], 'h5': [], 'h6': [], 'p': [{'text': '© 2023 -Datenschutzerklärung-Nutzungsbedingungen', 'url': None}], 'a': [{'text': 'Bilder', 'url': 'https://www.google.com/imghp?hl=de&tab=wi'}, {'text': 'Maps', 'url': 'https://maps.google.ch/maps?hl=de&tab=wl'}, {'text': 'Play', 'url': 'https://play.google.com/?hl=de&tab=w8'}, {'text': 'YouTube', 'url': 'https://www.youtube.com/?tab=w1'}, {'text': 'News', 'url': 'https://news.google.com/?tab=wn'}, {'text': 'Gmail', 'url': 'https://mail.google.com/mail/?tab=wm'}, {'text': 'Drive', 'url': 'https://drive.google.com/?tab=wo'}, {'text': 'Mehr»', 'url': 'https://www.google.ch/intl/de/about/products?tab=wh'}, {'text': 'Webprotokoll', 'url': 'http://www.google.ch/history/optout?hl=de'}, {'text': 'Einstellungen', 'url': '/preferences?hl=de'}, {'text': 'Anmelden', 'url': 'https://accounts.google.com/ServiceLogin?hl=de&passive=true&continue=https://www.google.com/&ec=GAZAAQ'}, {'text': 'Erweiterte Suche', 'url': '/advanced_search?hl=de-CH&authuser=0'}, {'text': 'English', 'url': 'https://www.google.com/setprefs?sig=0_sszF_OfQ-hERVaXgzTvAGOBViI8%3D&hl=en&source=homepage&sa=X&ved=0ahUKEwiut5W30qGCAxUBSuUKHeeJBVMQ2ZgBCAU'}, {'text': 'Français', 'url': 'https://www.google.com/setprefs?sig=0_sszF_OfQ-hERVaXgzTvAGOBViI8%3D&hl=fr&source=homepage&sa=X&ved=0ahUKEwiut5W30qGCAxUBSuUKHeeJBVMQ2ZgBCAY'}, {'text': 'Italiano', 'url': 'https://www.google.com/setprefs?sig=0_sszF_OfQ-hERVaXgzTvAGOBViI8%3D&hl=it&source=homepage&sa=X&ved=0ahUKEwiut5W30qGCAxUBSuUKHeeJBVMQ2ZgBCAc'}, {'text': 'Rumantsch', 'url': 'https://www.google.com/setprefs?sig=0_sszF_OfQ-hERVaXgzTvAGOBViI8%3D&hl=rm&source=homepage&sa=X&ved=0ahUKEwiut5W30qGCAxUBSuUKHeeJBVMQ2ZgBCAg'}, {'text': 'Werbeprogramme', 'url': '/intl/de/ads/'}, {'text': 'Lösungen für Unternehmen', 'url': 'http://www.google.ch/intl/de/services/'}, {'text': 'Über Google', 'url': '/intl/de/about.html'}, {'text': 'Google.ch', 'url': 'https://www.google.com/setprefdomain?prefdom=CH&prev=https://www.google.ch/&sig=K_1o-g14O8mxeJ1ipyCWlH5ByuyL0%3D'}, {'text': 'Datenschutzerklärung', 'url': '/intl/de/policies/privacy/'}, {'text': 'Nutzungsbedingungen', 'url': '/intl/de/policies/terms/'}], 'img': [{'text': 'Google', 'url': '/images/branding/googlelogo/1x/googlelogo_white_background_color_272x92dp.png'}], 'date_time': '2023-11-01 02:24:51.210879'}\n",
      "Ingestion IN1 successfully completed!\n",
      "Loading data from Ingestion IN1...\n",
      "DataFrame exported as CSV: export/data.csv\n",
      "Loaded data from Ingestion IN1!\n"
     ]
    }
   ],
   "source": [
    "from ETL import ETL\n",
    "from modules.Utils import Utils\n",
    "pipeline = ETL(\"ETL Pipeline 2\")\n",
    "pipeline.create_datasource('DS1', Utils().read_json('./assets/datasources/www.google.com.json'))\n",
    "pipeline.create_encoder('EN1', Utils().read_json('./assets/encoders/encoder_html.json'))\n",
    "pipeline.create_ingestion('IN1')\n",
    "pipeline.create_control('CN1',10,10)\n",
    "pipeline.create_loader('LD1', Utils().read_json('./assets/save_config/file_safe_config.json'))\n",
    "pipeline.set_flow_from_url('./assets/flow/flow.json')\n",
    "pipeline.start()"
   ]
  }
 ],
 "metadata": {
  "kernelspec": {
   "display_name": ".venv",
   "language": "python",
   "name": "python3"
  },
  "language_info": {
   "codemirror_mode": {
    "name": "ipython",
    "version": 3
   },
   "file_extension": ".py",
   "mimetype": "text/x-python",
   "name": "python",
   "nbconvert_exporter": "python",
   "pygments_lexer": "ipython3",
   "version": "3.10.0"
  }
 },
 "nbformat": 4,
 "nbformat_minor": 2
}
