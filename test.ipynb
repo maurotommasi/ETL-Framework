{
 "cells": [
  {
   "cell_type": "code",
   "execution_count": 1,
   "metadata": {},
   "outputs": [
    {
     "ename": "TypeError",
     "evalue": "ETL.create_process() takes 2 positional arguments but 3 were given",
     "output_type": "error",
     "traceback": [
      "\u001b[1;31m---------------------------------------------------------------------------\u001b[0m",
      "\u001b[1;31mTypeError\u001b[0m                                 Traceback (most recent call last)",
      "\u001b[1;32mc:\\Users\\development\\Documents\\GitHub\\ETL\\test.ipynb Cell 1\u001b[0m line \u001b[0;36m1\n\u001b[0;32m     <a href='vscode-notebook-cell:/c%3A/Users/development/Documents/GitHub/ETL/test.ipynb#W6sZmlsZQ%3D%3D?line=10'>11</a>\u001b[0m pipeline\u001b[39m.\u001b[39mcreate_encoder(\u001b[39m'\u001b[39m\u001b[39mEN1\u001b[39m\u001b[39m'\u001b[39m, Utils()\u001b[39m.\u001b[39mread_json(\u001b[39m'\u001b[39m\u001b[39m./assets/encoders/encoder_html.json\u001b[39m\u001b[39m'\u001b[39m))\n\u001b[0;32m     <a href='vscode-notebook-cell:/c%3A/Users/development/Documents/GitHub/ETL/test.ipynb#W6sZmlsZQ%3D%3D?line=11'>12</a>\u001b[0m pipeline\u001b[39m.\u001b[39mcreate_ingestion(\u001b[39m'\u001b[39m\u001b[39mIN1\u001b[39m\u001b[39m'\u001b[39m)\n\u001b[1;32m---> <a href='vscode-notebook-cell:/c%3A/Users/development/Documents/GitHub/ETL/test.ipynb#W6sZmlsZQ%3D%3D?line=12'>13</a>\u001b[0m pipeline\u001b[39m.\u001b[39;49mcreate_process(\u001b[39m'\u001b[39;49m\u001b[39mPR1\u001b[39;49m\u001b[39m'\u001b[39;49m, [\n\u001b[0;32m     <a href='vscode-notebook-cell:/c%3A/Users/development/Documents/GitHub/ETL/test.ipynb#W6sZmlsZQ%3D%3D?line=13'>14</a>\u001b[0m     hide_email,\n\u001b[0;32m     <a href='vscode-notebook-cell:/c%3A/Users/development/Documents/GitHub/ETL/test.ipynb#W6sZmlsZQ%3D%3D?line=14'>15</a>\u001b[0m     \u001b[39mlambda\u001b[39;49;00m x: x[\u001b[39m0\u001b[39;49m:\u001b[39m5\u001b[39;49m], \n\u001b[0;32m     <a href='vscode-notebook-cell:/c%3A/Users/development/Documents/GitHub/ETL/test.ipynb#W6sZmlsZQ%3D%3D?line=15'>16</a>\u001b[0m     \u001b[39mlambda\u001b[39;49;00m x: x\u001b[39m*\u001b[39;49m\u001b[39m2\u001b[39;49m]\n\u001b[0;32m     <a href='vscode-notebook-cell:/c%3A/Users/development/Documents/GitHub/ETL/test.ipynb#W6sZmlsZQ%3D%3D?line=16'>17</a>\u001b[0m     ) \u001b[39m# Remember we are working with dictionaries, the return has to be a dictionary too\u001b[39;00m\n\u001b[0;32m     <a href='vscode-notebook-cell:/c%3A/Users/development/Documents/GitHub/ETL/test.ipynb#W6sZmlsZQ%3D%3D?line=17'>18</a>\u001b[0m pipeline\u001b[39m.\u001b[39mcreate_control(\u001b[39m'\u001b[39m\u001b[39mCN1\u001b[39m\u001b[39m'\u001b[39m,\u001b[39m10\u001b[39m,\u001b[39m10\u001b[39m)\n\u001b[0;32m     <a href='vscode-notebook-cell:/c%3A/Users/development/Documents/GitHub/ETL/test.ipynb#W6sZmlsZQ%3D%3D?line=18'>19</a>\u001b[0m pipeline\u001b[39m.\u001b[39mcreate_loader(\u001b[39m'\u001b[39m\u001b[39mLD1\u001b[39m\u001b[39m'\u001b[39m, Utils()\u001b[39m.\u001b[39mread_json(\u001b[39m'\u001b[39m\u001b[39m./assets/save_config/file_safe_config.json\u001b[39m\u001b[39m'\u001b[39m))\n",
      "\u001b[1;31mTypeError\u001b[0m: ETL.create_process() takes 2 positional arguments but 3 were given"
     ]
    }
   ],
   "source": [
    "from ETL import ETL\n",
    "from modules.Utils import Utils\n",
    "\n",
    "def hide_email(data):\n",
    "    if \"email\" in data:\n",
    "        data['email'] = \"XXXXXXX\"\n",
    "    return data\n",
    "\n",
    "pipeline = ETL(\"ETL Pipeline 2\")\n",
    "pipeline.create_datasource('DS1', Utils().read_json('./assets/datasources/www.google.com.json'))\n",
    "pipeline.create_encoder('EN1', Utils().read_json('./assets/encoders/encoder_html.json'))\n",
    "pipeline.create_ingestion('IN1')\n",
    "pipeline.create_process('PR1', [\n",
    "    hide_email,\n",
    "    lambda x: x[0:5], \n",
    "    lambda x: x*2]\n",
    "    ) # Remember we are working with dictionaries, the return has to be a dictionary too\n",
    "pipeline.create_control('CN1',10,10)\n",
    "pipeline.create_loader('LD1', Utils().read_json('./assets/save_config/file_safe_config.json'))\n",
    "pipeline.set_flow_from_url('./assets/flow/flow.json')\n",
    "pipeline.start()"
   ]
  },
  {
   "cell_type": "code",
   "execution_count": null,
   "metadata": {},
   "outputs": [],
   "source": [
    "def transformation(x): return x[0:2]"
   ]
  }
 ],
 "metadata": {
  "kernelspec": {
   "display_name": ".venv",
   "language": "python",
   "name": "python3"
  },
  "language_info": {
   "codemirror_mode": {
    "name": "ipython",
    "version": 3
   },
   "file_extension": ".py",
   "mimetype": "text/x-python",
   "name": "python",
   "nbconvert_exporter": "python",
   "pygments_lexer": "ipython3",
   "version": "3.10.0"
  }
 },
 "nbformat": 4,
 "nbformat_minor": 2
}
