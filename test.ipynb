{
 "cells": [
  {
   "cell_type": "code",
   "execution_count": 3,
   "metadata": {},
   "outputs": [
    {
     "name": "stdout",
     "output_type": "stream",
     "text": [
      "Error: HTTPSConnectionPool(host='www.abcnews.go.com', port=443): Max retries exceeded with url: / (Caused by ConnectTimeoutError(<urllib3.connection.HTTPSConnection object at 0x00000286090BFEE0>, 'Connection to www.abcnews.go.com timed out. (connect timeout=None)'))\n",
      "Error: Unable to fetch the webpage. Status code: 403\n"
     ]
    }
   ],
   "source": [
    "from ETL import ETL\n",
    "\n",
    "# Inizialize main istance ETL\n",
    "\n",
    "ETL_istance = ETL(\"Process ETL 1\", 3600)\n",
    "\n",
    "url_list = [\n",
    "    \"https://www.bbc.com/news\",\n",
    "    \"https://www.cnn.com\",\n",
    "    \"https://www.nytimes.com\",\n",
    "    \"https://www.theguardian.com\",\n",
    "    \"https://www.reuters.com\",\n",
    "    \"https://www.aljazeera.com\",\n",
    "    \"https://www.nbcnews.com\",\n",
    "    \"https://www.abcnews.go.com\",\n",
    "    \"https://www.cbsnews.com\",\n",
    "    \"https://www.foxnews.com\",\n",
    "    \"https://www.apnews.com\",\n",
    "    \"https://www.npr.org\",\n",
    "    \"https://www.usatoday.com\",\n",
    "    \"https://www.washingtonpost.com\",\n",
    "    \"https://www.time.com\",\n",
    "    \"https://www.bloomberg.com\",\n",
    "    \"https://www.cnbc.com\",\n",
    "    \"https://www.newsweek.com\",\n",
    "    \"https://www.independent.co.uk\",\n",
    "    \"https://www.huffpost.com\"\n",
    "]\n",
    "\n",
    "# Initialize sub istances\n",
    "\n",
    "source = ETL_istance.Source('html')\n",
    "encoder = source.Encoder()\n",
    "data_source = source.DataSource()\n",
    "\n",
    "# Set encoder\n",
    "\n",
    "encoder.set_html(mapping_url=\"mapping/mapping_source_html.json\")\n",
    "\n",
    "data = {}\n",
    "\n",
    "# Fetch Data\n",
    "\n",
    "for url in url_list:\n",
    "    # Set Data Source Connection\n",
    "    data_source.set_url(url)\n",
    "\n",
    "    # Set Source Object (data Source + Enconder)\n",
    "    source.set_data_source(data_source, encoder)\n",
    "\n",
    "    # Extract the Information\n",
    "    data[url] = ETL.Extract(source).extract_text_from_website()\n",
    "\n",
    "    # Create Save Object Dictionary\n",
    "    saveObj = {\n",
    "        'type': 'json',\n",
    "        'path': f\"export/{ETL_istance.Utils().urlToFolder(url)}/data.json\"\n",
    "    }\n",
    "\n",
    "    # Save Data / Upload data\n",
    "    ETL_istance.save(data[url], saveObj)\n"
   ]
  }
 ],
 "metadata": {
  "kernelspec": {
   "display_name": ".venv",
   "language": "python",
   "name": "python3"
  },
  "language_info": {
   "codemirror_mode": {
    "name": "ipython",
    "version": 3
   },
   "file_extension": ".py",
   "mimetype": "text/x-python",
   "name": "python",
   "nbconvert_exporter": "python",
   "pygments_lexer": "ipython3",
   "version": "3.10.0"
  }
 },
 "nbformat": 4,
 "nbformat_minor": 2
}
