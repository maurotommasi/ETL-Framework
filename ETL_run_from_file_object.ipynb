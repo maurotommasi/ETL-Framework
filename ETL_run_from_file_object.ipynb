{
 "cells": [
  {
   "cell_type": "code",
   "execution_count": 1,
   "metadata": {},
   "outputs": [
    {
     "ename": "AttributeError",
     "evalue": "Can't get attribute 'upper_meta_value' on <module '__main__'>",
     "output_type": "error",
     "traceback": [
      "\u001b[1;31m---------------------------------------------------------------------------\u001b[0m",
      "\u001b[1;31mAttributeError\u001b[0m                            Traceback (most recent call last)",
      "\u001b[1;32mc:\\Users\\development\\Documents\\GitHub\\ETL\\ETL_run_from_file_object.ipynb Cell 1\u001b[0m line \u001b[0;36m2\n\u001b[0;32m      <a href='vscode-notebook-cell:/c%3A/Users/development/Documents/GitHub/ETL/ETL_run_from_file_object.ipynb#W0sZmlsZQ%3D%3D?line=0'>1</a>\u001b[0m \u001b[39mfrom\u001b[39;00m \u001b[39mmodules\u001b[39;00m\u001b[39m.\u001b[39;00m\u001b[39mUtils\u001b[39;00m \u001b[39mimport\u001b[39;00m Utils\n\u001b[1;32m----> <a href='vscode-notebook-cell:/c%3A/Users/development/Documents/GitHub/ETL/ETL_run_from_file_object.ipynb#W0sZmlsZQ%3D%3D?line=1'>2</a>\u001b[0m Utils()\u001b[39m.\u001b[39;49mload_obj(\u001b[39m'\u001b[39;49m\u001b[39mpipelines/pipeline_MySQL.pkl\u001b[39;49m\u001b[39m'\u001b[39;49m)\u001b[39m.\u001b[39mstart()\n",
      "File \u001b[1;32mc:\\Users\\development\\Documents\\GitHub\\ETL\\modules\\Utils.py:41\u001b[0m, in \u001b[0;36mUtils.load_obj\u001b[1;34m(self, path)\u001b[0m\n\u001b[0;32m     39\u001b[0m \u001b[39mdef\u001b[39;00m \u001b[39mload_obj\u001b[39m(\u001b[39mself\u001b[39m, path):\n\u001b[0;32m     40\u001b[0m     \u001b[39mwith\u001b[39;00m \u001b[39mopen\u001b[39m(path,\u001b[39m'\u001b[39m\u001b[39mrb\u001b[39m\u001b[39m'\u001b[39m) \u001b[39mas\u001b[39;00m file:\n\u001b[1;32m---> 41\u001b[0m         \u001b[39mreturn\u001b[39;00m pickle\u001b[39m.\u001b[39;49mload(file)\n",
      "\u001b[1;31mAttributeError\u001b[0m: Can't get attribute 'upper_meta_value' on <module '__main__'>"
     ]
    }
   ],
   "source": [
    "from modules.Utils import Utils\n",
    "Utils().load_obj('pipelines/pipeline_MySQL.pkl').start()"
   ]
  }
 ],
 "metadata": {
  "kernelspec": {
   "display_name": ".venv",
   "language": "python",
   "name": "python3"
  },
  "language_info": {
   "codemirror_mode": {
    "name": "ipython",
    "version": 3
   },
   "file_extension": ".py",
   "mimetype": "text/x-python",
   "name": "python",
   "nbconvert_exporter": "python",
   "pygments_lexer": "ipython3",
   "version": "3.10.0"
  }
 },
 "nbformat": 4,
 "nbformat_minor": 2
}
